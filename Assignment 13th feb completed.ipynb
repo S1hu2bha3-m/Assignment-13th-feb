{
 "cells": [
  {
   "cell_type": "markdown",
   "id": "281daa93-bff6-4cd8-8b8a-577f55a79cc4",
   "metadata": {},
   "source": [
    "Q1. Explain why we have to use the Exception class while creating a Custom Exception.\n",
    "Note: Here Exception class refers to the base class for all the exceptions."
   ]
  },
  {
   "cell_type": "markdown",
   "id": "93949e3e-2a94-4230-9009-ab55e6667a62",
   "metadata": {},
   "source": [
    "Ans. In Python, the Exception class is the base class for all built-in exceptions, and it is recommended to inherit from this class when creating custom exceptions. When we create a new custom exception by defining a new class that inherits from Exception or one of its subclasses, we are creating a new type of exception that can be raised and caught like any other exception.\n",
    "\n",
    "The Exception class provides a number of useful methods and attributes that we can use in our custom exceptions, such as __str__ method to provide a string representation of the exception, args attribute to get the arguments passed to the exception, and with_traceback method to associate a traceback with the exception."
   ]
  },
  {
   "cell_type": "markdown",
   "id": "5ec35dba-1788-4f4c-bfc8-12813d0dc628",
   "metadata": {},
   "source": [
    "Q2. Write a python program to print Python Exception Hierarchy."
   ]
  },
  {
   "cell_type": "markdown",
   "id": "1dd288a4-3b2d-474c-952d-8e562be18a34",
   "metadata": {},
   "source": [
    "Ans. Sure, here's a Python program to print the Python Exception Hierarchy using the help() function:"
   ]
  },
  {
   "cell_type": "code",
   "execution_count": 1,
   "id": "fe4e3616-ab54-4f0a-87d6-18914a17f48f",
   "metadata": {},
   "outputs": [
    {
     "name": "stdout",
     "output_type": "stream",
     "text": [
      "Help on class Exception in module builtins:\n",
      "\n",
      "class Exception(BaseException)\n",
      " |  Common base class for all non-exit exceptions.\n",
      " |  \n",
      " |  Method resolution order:\n",
      " |      Exception\n",
      " |      BaseException\n",
      " |      object\n",
      " |  \n",
      " |  Built-in subclasses:\n",
      " |      ArithmeticError\n",
      " |      AssertionError\n",
      " |      AttributeError\n",
      " |      BufferError\n",
      " |      ... and 15 other subclasses\n",
      " |  \n",
      " |  Methods defined here:\n",
      " |  \n",
      " |  __init__(self, /, *args, **kwargs)\n",
      " |      Initialize self.  See help(type(self)) for accurate signature.\n",
      " |  \n",
      " |  ----------------------------------------------------------------------\n",
      " |  Static methods defined here:\n",
      " |  \n",
      " |  __new__(*args, **kwargs) from builtins.type\n",
      " |      Create and return a new object.  See help(type) for accurate signature.\n",
      " |  \n",
      " |  ----------------------------------------------------------------------\n",
      " |  Methods inherited from BaseException:\n",
      " |  \n",
      " |  __delattr__(self, name, /)\n",
      " |      Implement delattr(self, name).\n",
      " |  \n",
      " |  __getattribute__(self, name, /)\n",
      " |      Return getattr(self, name).\n",
      " |  \n",
      " |  __reduce__(...)\n",
      " |      Helper for pickle.\n",
      " |  \n",
      " |  __repr__(self, /)\n",
      " |      Return repr(self).\n",
      " |  \n",
      " |  __setattr__(self, name, value, /)\n",
      " |      Implement setattr(self, name, value).\n",
      " |  \n",
      " |  __setstate__(...)\n",
      " |  \n",
      " |  __str__(self, /)\n",
      " |      Return str(self).\n",
      " |  \n",
      " |  with_traceback(...)\n",
      " |      Exception.with_traceback(tb) --\n",
      " |      set self.__traceback__ to tb and return self.\n",
      " |  \n",
      " |  ----------------------------------------------------------------------\n",
      " |  Data descriptors inherited from BaseException:\n",
      " |  \n",
      " |  __cause__\n",
      " |      exception cause\n",
      " |  \n",
      " |  __context__\n",
      " |      exception context\n",
      " |  \n",
      " |  __dict__\n",
      " |  \n",
      " |  __suppress_context__\n",
      " |  \n",
      " |  __traceback__\n",
      " |  \n",
      " |  args\n",
      "\n"
     ]
    }
   ],
   "source": [
    "help(Exception)\n"
   ]
  },
  {
   "cell_type": "markdown",
   "id": "73d50952-0ebb-4739-8f76-7ef9eb59f611",
   "metadata": {},
   "source": [
    "Q3. What errors are defined in the ArithmeticError class? Explain any two with an example."
   ]
  },
  {
   "cell_type": "markdown",
   "id": "217cf443-c433-44c0-bc4b-e05afa99ccb5",
   "metadata": {},
   "source": [
    "Ans. The ArithmeticError class is a built-in exception class in Python that is raised when an arithmetic operation fails. It is a subclass of the Exception class and is the base class for several other built-in exception classes that represent specific types of arithmetic errors. Two examples of such exceptions are ZeroDivisionError and OverflowError\n",
    "\n",
    "ZeroDivisionError: This exception is raised when we try to divide a number by zero."
   ]
  },
  {
   "cell_type": "code",
   "execution_count": 2,
   "id": "628372a5-29f2-4819-be38-027ea1c13ff6",
   "metadata": {},
   "outputs": [
    {
     "name": "stdout",
     "output_type": "stream",
     "text": [
      "Error: division by zero\n"
     ]
    }
   ],
   "source": [
    "a = 10\n",
    "b = 0\n",
    "\n",
    "try:\n",
    "    c = a/b\n",
    "except ZeroDivisionError as e:\n",
    "    print(\"Error:\", e)\n"
   ]
  },
  {
   "cell_type": "markdown",
   "id": "9d869f09-e810-4761-afdc-f9fe1772f009",
   "metadata": {},
   "source": [
    "OverflowError: This exception is raised when the result of an arithmetic operation exceeds the maximum representable value for a numeric data type."
   ]
  },
  {
   "cell_type": "code",
   "execution_count": 3,
   "id": "78330f05-1e73-4b54-bbe9-eae27c625d53",
   "metadata": {},
   "outputs": [],
   "source": [
    "import sys\n",
    "\n",
    "x = sys.maxsize\n",
    "y = 2\n",
    "\n",
    "try:\n",
    "    z = x * y\n",
    "except OverflowError as e:\n",
    "    print(\"Error:\", e)\n"
   ]
  },
  {
   "cell_type": "markdown",
   "id": "42db06e8-bee1-490f-b950-0a14ef4b4e7e",
   "metadata": {},
   "source": [
    "Q4. Why LookupError class is used? Explain with an example KeyError and IndexError."
   ]
  },
  {
   "cell_type": "markdown",
   "id": "50876540-1816-4bc9-af31-3adcfb3bb87c",
   "metadata": {},
   "source": [
    "Ans. The LookupError class is a built-in exception class in Python that is raised when a key or index used to access a value in a container (such as a dictionary or a list) is not found."
   ]
  },
  {
   "cell_type": "markdown",
   "id": "ddcf6bb7-5683-41d7-838a-65d202c1908e",
   "metadata": {},
   "source": [
    "KeyError: This exception is raised when we try to access a key in a dictionary that does not exist."
   ]
  },
  {
   "cell_type": "code",
   "execution_count": 4,
   "id": "c1bd3162-9591-45f3-b5b8-2a892256efc2",
   "metadata": {},
   "outputs": [
    {
     "name": "stdout",
     "output_type": "stream",
     "text": [
      "Error: 'd'\n"
     ]
    }
   ],
   "source": [
    "d = {\"a\": 1, \"b\": 2, \"c\": 3}\n",
    "\n",
    "try:\n",
    "    value = d[\"d\"]\n",
    "except KeyError as e:\n",
    "    print(\"Error:\", e)\n"
   ]
  },
  {
   "cell_type": "markdown",
   "id": "a9cc0321-d16f-41e6-8067-ee28d74f670d",
   "metadata": {},
   "source": [
    "IndexError: This exception is raised when we try to access an index in a list or other sequence that is out of range."
   ]
  },
  {
   "cell_type": "code",
   "execution_count": 5,
   "id": "a28cb1c3-7985-4488-a600-12692dbb43b9",
   "metadata": {},
   "outputs": [
    {
     "name": "stdout",
     "output_type": "stream",
     "text": [
      "Error: list index out of range\n"
     ]
    }
   ],
   "source": [
    "l = [1, 2, 3]\n",
    "\n",
    "try:\n",
    "    value = l[3]\n",
    "except IndexError as e:\n",
    "    print(\"Error:\", e)\n"
   ]
  },
  {
   "cell_type": "markdown",
   "id": "36705fa5-2fdb-4dbd-8903-233e724040bf",
   "metadata": {},
   "source": [
    "Q5. Explain ImportError. What is ModuleNotFoundError?"
   ]
  },
  {
   "cell_type": "markdown",
   "id": "828d95fb-bbb9-418f-a953-0a5f345f065d",
   "metadata": {},
   "source": [
    "ImportError is a built-in exception in Python that is raised when an imported module, package, or object could not be found or imported successfully. It is a common exception that can occur when working with Python modules and packages.\n",
    "\n",
    "ModuleNotFoundError exception is a subclass of ImportError that is raised when a module could not be found during an import statement. This means that if we try to import a module that does not exist, we will get a ModuleNotFoundError."
   ]
  },
  {
   "cell_type": "markdown",
   "id": "c5bbc149-cf19-4260-bd6d-7ea726cad20b",
   "metadata": {},
   "source": [
    "Q6. List down some best practices for exception handling in python."
   ]
  },
  {
   "cell_type": "markdown",
   "id": "867e3e05-3579-432a-aa38-ade954c621db",
   "metadata": {},
   "source": [
    "Ans. Here are some best practices for exception handling in Python:\n",
    "\n",
    "Be specific with your exception handling: Catch only the exceptions that you expect and can handle. Avoid catching all exceptions using a bare except: statement.\n",
    "\n",
    "Keep exception handling separate from business logic: Do not mix exception handling with business logic. Separate them in different blocks or functions.\n",
    "\n",
    "Use try-except blocks for expected errors: Use try-except blocks to handle errors that are expected to occur during the execution of your program.\n",
    "\n",
    "Use finally blocks for cleanup: Use finally blocks to ensure that resources are properly cleaned up, regardless of whether an exception was raised or not.\n",
    "\n",
    "Use exception chaining: Use raise ... from to chain exceptions, so that the original exception is not lost and can be debugged."
   ]
  }
 ],
 "metadata": {
  "kernelspec": {
   "display_name": "Python 3 (ipykernel)",
   "language": "python",
   "name": "python3"
  },
  "language_info": {
   "codemirror_mode": {
    "name": "ipython",
    "version": 3
   },
   "file_extension": ".py",
   "mimetype": "text/x-python",
   "name": "python",
   "nbconvert_exporter": "python",
   "pygments_lexer": "ipython3",
   "version": "3.10.8"
  }
 },
 "nbformat": 4,
 "nbformat_minor": 5
}
